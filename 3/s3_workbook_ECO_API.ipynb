{
  "cells": [
    {
      "cell_type": "markdown",
      "metadata": {
        "id": "view-in-github",
        "colab_type": "text"
      },
      "source": [
        "<a href=\"https://colab.research.google.com/github/mpsimina/mpsimina.github.io/blob/main/3/s3_workbook_ECO_API.ipynb\" target=\"_parent\"><img src=\"https://colab.research.google.com/assets/colab-badge.svg\" alt=\"Open In Colab\"/></a>"
      ]
    },
    {
      "cell_type": "markdown",
      "metadata": {
        "id": "pC-R7nWsVbBm"
      },
      "source": [
        "[![Binder](http://mybinder.org/badge_logo.svg)](https://mybinder.org/v2/gh/EconomicsObservatory/courses/HEAD?labpath=3%2Fs3_workbook_Loops_APIs.ipynb)\n",
        "\n",
        "<a href=\"https://colab.research.google.com/github/EconomicsObservatory/courses/blob/main/3/s3_workbook_ECO_API.ipynb\" target=\"_blank\"><img src=\"https://colab.research.google.com/assets/colab-badge.svg\" alt=\"Open In Colab\"/></a>"
      ]
    },
    {
      "cell_type": "markdown",
      "metadata": {
        "id": "b77eKBKFAf5W"
      },
      "source": [
        "**Richard Davies** Data Science Masterclass - 2024\n",
        "\n",
        "In this notebook we download a chart that we like and want to recreate, then looping over a list of countries to create multiple copies using different API-linked datasets."
      ]
    },
    {
      "cell_type": "markdown",
      "metadata": {
        "id": "ig9x6uozUulP"
      },
      "source": [
        "<br>\n",
        "<br>\n",
        "\n",
        "### Preparatory Steps\n",
        "\n",
        "There are a few add-ons to Python that we import to our session at the start. Run this to prepare your session for what follows."
      ]
    },
    {
      "cell_type": "code",
      "execution_count": 1,
      "metadata": {
        "id": "mYjv4xnjssaP",
        "outputId": "c915d72e-3755-4430-f27d-72d700b02e38",
        "colab": {
          "base_uri": "https://localhost:8080/"
        }
      },
      "outputs": [
        {
          "output_type": "stream",
          "name": "stdout",
          "text": [
            "Requirement already satisfied: altair in /usr/local/lib/python3.10/dist-packages (4.2.2)\n",
            "Requirement already satisfied: entrypoints in /usr/local/lib/python3.10/dist-packages (from altair) (0.4)\n",
            "Requirement already satisfied: jinja2 in /usr/local/lib/python3.10/dist-packages (from altair) (3.1.3)\n",
            "Requirement already satisfied: jsonschema>=3.0 in /usr/local/lib/python3.10/dist-packages (from altair) (4.19.2)\n",
            "Requirement already satisfied: numpy in /usr/local/lib/python3.10/dist-packages (from altair) (1.25.2)\n",
            "Requirement already satisfied: pandas>=0.18 in /usr/local/lib/python3.10/dist-packages (from altair) (1.5.3)\n",
            "Requirement already satisfied: toolz in /usr/local/lib/python3.10/dist-packages (from altair) (0.12.1)\n",
            "Requirement already satisfied: attrs>=22.2.0 in /usr/local/lib/python3.10/dist-packages (from jsonschema>=3.0->altair) (23.2.0)\n",
            "Requirement already satisfied: jsonschema-specifications>=2023.03.6 in /usr/local/lib/python3.10/dist-packages (from jsonschema>=3.0->altair) (2023.12.1)\n",
            "Requirement already satisfied: referencing>=0.28.4 in /usr/local/lib/python3.10/dist-packages (from jsonschema>=3.0->altair) (0.33.0)\n",
            "Requirement already satisfied: rpds-py>=0.7.1 in /usr/local/lib/python3.10/dist-packages (from jsonschema>=3.0->altair) (0.18.0)\n",
            "Requirement already satisfied: python-dateutil>=2.8.1 in /usr/local/lib/python3.10/dist-packages (from pandas>=0.18->altair) (2.8.2)\n",
            "Requirement already satisfied: pytz>=2020.1 in /usr/local/lib/python3.10/dist-packages (from pandas>=0.18->altair) (2023.4)\n",
            "Requirement already satisfied: MarkupSafe>=2.0 in /usr/local/lib/python3.10/dist-packages (from jinja2->altair) (2.1.5)\n",
            "Requirement already satisfied: six>=1.5 in /usr/local/lib/python3.10/dist-packages (from python-dateutil>=2.8.1->pandas>=0.18->altair) (1.16.0)\n"
          ]
        }
      ],
      "source": [
        "# 1. PREPARATORY STEPS - ACCESS PACKAGES WE NEED\n",
        "\n",
        "## // The \"requests\" package, for opening web sites and retrieving information:\n",
        "import requests\n",
        "\n",
        "## // The \"json\" package, for helping us: make JSON easier to read, converting to JSON from Python data (dictionaries).\n",
        "import json\n",
        "\n",
        "## /// Altair. This is a way of visualiting Vega charts in Colab\n",
        "%pip install altair   # Some packagaes need to be installed to the virtual machine before we can import them into our notebook. We can do this with '!pip install'\n",
        "import altair as alt"
      ]
    },
    {
      "cell_type": "markdown",
      "metadata": {
        "id": "kjOaFDGMtAIW"
      },
      "source": [
        "<br>\n",
        "<br>\n",
        "\n",
        "### Access a chart specification that I like\n",
        "\n",
        "Suppose that you see a chart you like on the library page of my website. https:///www.richarddavies.io/charts/library.\n",
        "\n",
        "Here is a spec that we might want to use:\n",
        "https://github.com/RDeconomist/RDeconomist.github.io/blob/main/charts/library/chartLine0.json.\n",
        "\n",
        "Lets first get that onto our machines, and edit it.\n"
      ]
    },
    {
      "cell_type": "code",
      "execution_count": 8,
      "metadata": {
        "id": "QsxXxWrL_0vJ",
        "outputId": "5163ba36-8ec2-41bf-f496-18a6274fcfbb",
        "colab": {
          "base_uri": "https://localhost:8080/"
        }
      },
      "outputs": [
        {
          "output_type": "stream",
          "name": "stdout",
          "text": [
            "{'$schema': 'https://vega.github.io/schema/vega-lite/v5.json', 'data': {'url': 'https://raw.githubusercontent.com/RDeconomist/RDeconomist.github.io/main/charts/library/ukProdOutPerWork.csv'}, 'title': {'text': 'UK Productivity 1960-2023'}, 'width': 300, 'height': 300, 'mark': {'type': 'line', 'color': 'red'}, 'encoding': {'x': {'field': 'Year', 'type': 'temporal'}, 'y': {'field': 'outputPerWorker', 'type': 'quantitative'}}}\n",
            "\n",
            "\n",
            "{'payload': {'allShortcutsEnabled': False, 'fileTree': {'': {'items': [{'name': 'README.md', 'path': 'README.md', 'contentType': 'file'}, {'name': 'index.html', 'path': 'index.html', 'contentType': 'file'}, {'name': 'inflation_decomposition.json', 'path': 'inflation_decomposition.json', 'contentType': 'file'}, {'name': 's2_chart1.json', 'path': 's2_chart1.json', 'contentType': 'file'}, {'name': 's2_example1.css', 'path': 's2_example1.css', 'contentType': 'file'}, {'name': 'test_chart.json', 'path': 'test_chart.json', 'contentType': 'file'}, {'name': 'test_data.csv', 'path': 'test_data.csv', 'contentType': 'file'}], 'totalCount': 7}}, 'fileTreeProcessingTime': 3.159621, 'foldersToFetch': [], 'repo': {'id': 771964339, 'defaultBranch': 'main', 'name': 'mpsimina.github.io', 'ownerLogin': 'mpsimina', 'currentUserCanPush': False, 'isFork': False, 'isEmpty': False, 'createdAt': '2024-03-14T09:26:11.000Z', 'ownerAvatar': 'https://avatars.githubusercontent.com/u/17261269?v=4', 'public': True, 'private': False, 'isOrgOwned': False}, 'symbolsExpanded': False, 'treeExpanded': True, 'refInfo': {'name': 'main', 'listCacheKey': 'v0:1710414556.0', 'canEdit': False, 'refType': 'branch', 'currentOid': 'd483ae78fb7de8dc9603d5647b822be5ef63c4de'}, 'path': 'inflation_decomposition.json', 'currentUser': None, 'blob': {'rawLines': ['{', '  \"$schema\": \"https://vega.github.io/schema/vega-lite/v4.json\",', '  \"title\": {', '    \"text\": \"CPI - sources of inflation\",', '    \"textsize\": 10,', '    \"subtitle\": \"Contributions to CPI all items by sub series\",', '    \"subtitleFontStyle\": \"italic\",', '    \"subtitleFontSize\": 10,', '    \"anchor\": \"start\",', '    \"color\": \"black\"', '  },', '  \"description\": \"Coronavirus cases\",', '  \"data\": {', '    \"url\": \"https://raw.githubusercontent.com/RDeconomist/teaching2/main/cpiContributions.csv\",', '    \"format\": {\"type\": \"csv\"}', '  },', '  \"height\": 500,', '  \"width\": 600,', '  \"mark\": {\"type\": \"bar\", \"width\": 3},', '  \"transform\": [{\"filter\": {\"selection\": \"pickSeries\"}}],', '  \"selection\": {', '    \"pickSeries\": {', '      \"type\": \"single\",', '      \"fields\": [\"series\"],', '      \"bind\": {', '        \"input\": \"select\",', '        \"options\": [', '          null,', '          \"AlcoholTobacco\",', '          \"ClothingFootwear\",', '          \"Communication\",', '          \"Education\",', '          \"Food\",', '          \"FurnitureHousehold\",', '          \"Health\",', '          \"HousingHouseService\",', '          \"Misc\",', '          \"RecreationCulture\",', '          \"RestaurantsHotels\",', '          \"Transport\"', '        ],', '        \"name\": \"Pick a series: \"', '      }', '    }', '  },', '  \"encoding\": {', '    \"x\": {\"field\": \"Date\", \"type\": \"temporal\", \"title\": \"\"},', '    \"y\": {\"field\": \"Value\", \"type\": \"quantitative\", \"title\": \"\"},', '    \"color\": {', '      \"field\": \"series\",', '      \"type\": \"nominal\",', '      \"legend\": {\"orient\": \"right\"},', '      \"scale\": {\"scheme\": \"darkred\"},', '      \"title\": \"\"', '    }', '  }', '}'], 'stylingDirectives': [[], [{'start': 2, 'end': 11, 'cssClass': 'pl-ent'}, {'start': 13, 'end': 62, 'cssClass': 'pl-s'}, {'start': 13, 'end': 14, 'cssClass': 'pl-pds'}, {'start': 61, 'end': 62, 'cssClass': 'pl-pds'}], [{'start': 2, 'end': 9, 'cssClass': 'pl-ent'}], [{'start': 4, 'end': 10, 'cssClass': 'pl-ent'}, {'start': 12, 'end': 40, 'cssClass': 'pl-s'}, {'start': 12, 'end': 13, 'cssClass': 'pl-pds'}, {'start': 39, 'end': 40, 'cssClass': 'pl-pds'}], [{'start': 4, 'end': 14, 'cssClass': 'pl-ent'}, {'start': 16, 'end': 18, 'cssClass': 'pl-c1'}], [{'start': 4, 'end': 14, 'cssClass': 'pl-ent'}, {'start': 16, 'end': 62, 'cssClass': 'pl-s'}, {'start': 16, 'end': 17, 'cssClass': 'pl-pds'}, {'start': 61, 'end': 62, 'cssClass': 'pl-pds'}], [{'start': 4, 'end': 23, 'cssClass': 'pl-ent'}, {'start': 25, 'end': 33, 'cssClass': 'pl-s'}, {'start': 25, 'end': 26, 'cssClass': 'pl-pds'}, {'start': 32, 'end': 33, 'cssClass': 'pl-pds'}], [{'start': 4, 'end': 22, 'cssClass': 'pl-ent'}, {'start': 24, 'end': 26, 'cssClass': 'pl-c1'}], [{'start': 4, 'end': 12, 'cssClass': 'pl-ent'}, {'start': 14, 'end': 21, 'cssClass': 'pl-s'}, {'start': 14, 'end': 15, 'cssClass': 'pl-pds'}, {'start': 20, 'end': 21, 'cssClass': 'pl-pds'}], [{'start': 4, 'end': 11, 'cssClass': 'pl-ent'}, {'start': 13, 'end': 20, 'cssClass': 'pl-s'}, {'start': 13, 'end': 14, 'cssClass': 'pl-pds'}, {'start': 19, 'end': 20, 'cssClass': 'pl-pds'}], [], [{'start': 2, 'end': 15, 'cssClass': 'pl-ent'}, {'start': 17, 'end': 36, 'cssClass': 'pl-s'}, {'start': 17, 'end': 18, 'cssClass': 'pl-pds'}, {'start': 35, 'end': 36, 'cssClass': 'pl-pds'}], [{'start': 2, 'end': 8, 'cssClass': 'pl-ent'}], [{'start': 4, 'end': 9, 'cssClass': 'pl-ent'}, {'start': 11, 'end': 94, 'cssClass': 'pl-s'}, {'start': 11, 'end': 12, 'cssClass': 'pl-pds'}, {'start': 93, 'end': 94, 'cssClass': 'pl-pds'}], [{'start': 4, 'end': 12, 'cssClass': 'pl-ent'}, {'start': 15, 'end': 21, 'cssClass': 'pl-ent'}, {'start': 23, 'end': 28, 'cssClass': 'pl-s'}, {'start': 23, 'end': 24, 'cssClass': 'pl-pds'}, {'start': 27, 'end': 28, 'cssClass': 'pl-pds'}], [], [{'start': 2, 'end': 10, 'cssClass': 'pl-ent'}, {'start': 12, 'end': 15, 'cssClass': 'pl-c1'}], [{'start': 2, 'end': 9, 'cssClass': 'pl-ent'}, {'start': 11, 'end': 14, 'cssClass': 'pl-c1'}], [{'start': 2, 'end': 8, 'cssClass': 'pl-ent'}, {'start': 11, 'end': 17, 'cssClass': 'pl-ent'}, {'start': 19, 'end': 24, 'cssClass': 'pl-s'}, {'start': 19, 'end': 20, 'cssClass': 'pl-pds'}, {'start': 23, 'end': 24, 'cssClass': 'pl-pds'}, {'start': 26, 'end': 33, 'cssClass': 'pl-ent'}, {'start': 35, 'end': 36, 'cssClass': 'pl-c1'}], [{'start': 2, 'end': 13, 'cssClass': 'pl-ent'}, {'start': 17, 'end': 25, 'cssClass': 'pl-ent'}, {'start': 28, 'end': 39, 'cssClass': 'pl-ent'}, {'start': 41, 'end': 53, 'cssClass': 'pl-s'}, {'start': 41, 'end': 42, 'cssClass': 'pl-pds'}, {'start': 52, 'end': 53, 'cssClass': 'pl-pds'}], [{'start': 2, 'end': 13, 'cssClass': 'pl-ent'}], [{'start': 4, 'end': 16, 'cssClass': 'pl-ent'}], [{'start': 6, 'end': 12, 'cssClass': 'pl-ent'}, {'start': 14, 'end': 22, 'cssClass': 'pl-s'}, {'start': 14, 'end': 15, 'cssClass': 'pl-pds'}, {'start': 21, 'end': 22, 'cssClass': 'pl-pds'}], [{'start': 6, 'end': 14, 'cssClass': 'pl-ent'}, {'start': 17, 'end': 25, 'cssClass': 'pl-s'}, {'start': 17, 'end': 18, 'cssClass': 'pl-pds'}, {'start': 24, 'end': 25, 'cssClass': 'pl-pds'}], [{'start': 6, 'end': 12, 'cssClass': 'pl-ent'}], [{'start': 8, 'end': 15, 'cssClass': 'pl-ent'}, {'start': 17, 'end': 25, 'cssClass': 'pl-s'}, {'start': 17, 'end': 18, 'cssClass': 'pl-pds'}, {'start': 24, 'end': 25, 'cssClass': 'pl-pds'}], [{'start': 8, 'end': 17, 'cssClass': 'pl-ent'}], [{'start': 10, 'end': 14, 'cssClass': 'pl-c1'}], [{'start': 10, 'end': 26, 'cssClass': 'pl-s'}, {'start': 10, 'end': 11, 'cssClass': 'pl-pds'}, {'start': 25, 'end': 26, 'cssClass': 'pl-pds'}], [{'start': 10, 'end': 28, 'cssClass': 'pl-s'}, {'start': 10, 'end': 11, 'cssClass': 'pl-pds'}, {'start': 27, 'end': 28, 'cssClass': 'pl-pds'}], [{'start': 10, 'end': 25, 'cssClass': 'pl-s'}, {'start': 10, 'end': 11, 'cssClass': 'pl-pds'}, {'start': 24, 'end': 25, 'cssClass': 'pl-pds'}], [{'start': 10, 'end': 21, 'cssClass': 'pl-s'}, {'start': 10, 'end': 11, 'cssClass': 'pl-pds'}, {'start': 20, 'end': 21, 'cssClass': 'pl-pds'}], [{'start': 10, 'end': 16, 'cssClass': 'pl-s'}, {'start': 10, 'end': 11, 'cssClass': 'pl-pds'}, {'start': 15, 'end': 16, 'cssClass': 'pl-pds'}], [{'start': 10, 'end': 30, 'cssClass': 'pl-s'}, {'start': 10, 'end': 11, 'cssClass': 'pl-pds'}, {'start': 29, 'end': 30, 'cssClass': 'pl-pds'}], [{'start': 10, 'end': 18, 'cssClass': 'pl-s'}, {'start': 10, 'end': 11, 'cssClass': 'pl-pds'}, {'start': 17, 'end': 18, 'cssClass': 'pl-pds'}], [{'start': 10, 'end': 31, 'cssClass': 'pl-s'}, {'start': 10, 'end': 11, 'cssClass': 'pl-pds'}, {'start': 30, 'end': 31, 'cssClass': 'pl-pds'}], [{'start': 10, 'end': 16, 'cssClass': 'pl-s'}, {'start': 10, 'end': 11, 'cssClass': 'pl-pds'}, {'start': 15, 'end': 16, 'cssClass': 'pl-pds'}], [{'start': 10, 'end': 29, 'cssClass': 'pl-s'}, {'start': 10, 'end': 11, 'cssClass': 'pl-pds'}, {'start': 28, 'end': 29, 'cssClass': 'pl-pds'}], [{'start': 10, 'end': 29, 'cssClass': 'pl-s'}, {'start': 10, 'end': 11, 'cssClass': 'pl-pds'}, {'start': 28, 'end': 29, 'cssClass': 'pl-pds'}], [{'start': 10, 'end': 21, 'cssClass': 'pl-s'}, {'start': 10, 'end': 11, 'cssClass': 'pl-pds'}, {'start': 20, 'end': 21, 'cssClass': 'pl-pds'}], [], [{'start': 8, 'end': 14, 'cssClass': 'pl-ent'}, {'start': 16, 'end': 33, 'cssClass': 'pl-s'}, {'start': 16, 'end': 17, 'cssClass': 'pl-pds'}, {'start': 32, 'end': 33, 'cssClass': 'pl-pds'}], [], [], [], [{'start': 2, 'end': 12, 'cssClass': 'pl-ent'}], [{'start': 4, 'end': 7, 'cssClass': 'pl-ent'}, {'start': 10, 'end': 17, 'cssClass': 'pl-ent'}, {'start': 19, 'end': 25, 'cssClass': 'pl-s'}, {'start': 19, 'end': 20, 'cssClass': 'pl-pds'}, {'start': 24, 'end': 25, 'cssClass': 'pl-pds'}, {'start': 27, 'end': 33, 'cssClass': 'pl-ent'}, {'start': 35, 'end': 45, 'cssClass': 'pl-s'}, {'start': 35, 'end': 36, 'cssClass': 'pl-pds'}, {'start': 44, 'end': 45, 'cssClass': 'pl-pds'}, {'start': 47, 'end': 54, 'cssClass': 'pl-ent'}, {'start': 56, 'end': 58, 'cssClass': 'pl-s'}, {'start': 56, 'end': 57, 'cssClass': 'pl-pds'}, {'start': 57, 'end': 58, 'cssClass': 'pl-pds'}], [{'start': 4, 'end': 7, 'cssClass': 'pl-ent'}, {'start': 10, 'end': 17, 'cssClass': 'pl-ent'}, {'start': 19, 'end': 26, 'cssClass': 'pl-s'}, {'start': 19, 'end': 20, 'cssClass': 'pl-pds'}, {'start': 25, 'end': 26, 'cssClass': 'pl-pds'}, {'start': 28, 'end': 34, 'cssClass': 'pl-ent'}, {'start': 36, 'end': 50, 'cssClass': 'pl-s'}, {'start': 36, 'end': 37, 'cssClass': 'pl-pds'}, {'start': 49, 'end': 50, 'cssClass': 'pl-pds'}, {'start': 52, 'end': 59, 'cssClass': 'pl-ent'}, {'start': 61, 'end': 63, 'cssClass': 'pl-s'}, {'start': 61, 'end': 62, 'cssClass': 'pl-pds'}, {'start': 62, 'end': 63, 'cssClass': 'pl-pds'}], [{'start': 4, 'end': 11, 'cssClass': 'pl-ent'}], [{'start': 6, 'end': 13, 'cssClass': 'pl-ent'}, {'start': 15, 'end': 23, 'cssClass': 'pl-s'}, {'start': 15, 'end': 16, 'cssClass': 'pl-pds'}, {'start': 22, 'end': 23, 'cssClass': 'pl-pds'}], [{'start': 6, 'end': 12, 'cssClass': 'pl-ent'}, {'start': 14, 'end': 23, 'cssClass': 'pl-s'}, {'start': 14, 'end': 15, 'cssClass': 'pl-pds'}, {'start': 22, 'end': 23, 'cssClass': 'pl-pds'}], [{'start': 6, 'end': 14, 'cssClass': 'pl-ent'}, {'start': 17, 'end': 25, 'cssClass': 'pl-ent'}, {'start': 27, 'end': 34, 'cssClass': 'pl-s'}, {'start': 27, 'end': 28, 'cssClass': 'pl-pds'}, {'start': 33, 'end': 34, 'cssClass': 'pl-pds'}], [{'start': 6, 'end': 13, 'cssClass': 'pl-ent'}, {'start': 16, 'end': 24, 'cssClass': 'pl-ent'}, {'start': 26, 'end': 35, 'cssClass': 'pl-s'}, {'start': 26, 'end': 27, 'cssClass': 'pl-pds'}, {'start': 34, 'end': 35, 'cssClass': 'pl-pds'}], [{'start': 6, 'end': 13, 'cssClass': 'pl-ent'}, {'start': 15, 'end': 17, 'cssClass': 'pl-s'}, {'start': 15, 'end': 16, 'cssClass': 'pl-pds'}, {'start': 16, 'end': 17, 'cssClass': 'pl-pds'}], [], [], []], 'colorizedLines': None, 'csv': None, 'csvError': None, 'dependabotInfo': {'showConfigurationBanner': False, 'configFilePath': None, 'networkDependabotPath': '/mpsimina/mpsimina.github.io/network/updates', 'dismissConfigurationNoticePath': '/settings/dismiss-notice/dependabot_configuration_notice', 'configurationNoticeDismissed': None}, 'displayName': 'inflation_decomposition.json', 'displayUrl': 'https://github.com/mpsimina/mpsimina.github.io/blob/main/inflation_decomposition.json?raw=true', 'headerInfo': {'blobSize': '1.45 KB', 'deleteTooltip': 'You must be signed in to make or propose changes', 'editTooltip': 'You must be signed in to make or propose changes', 'ghDesktopPath': 'https://desktop.github.com', 'isGitLfs': False, 'onBranch': True, 'shortPath': '28bf290', 'siteNavLoginPath': '/login?return_to=https%3A%2F%2Fgithub.com%2Fmpsimina%2Fmpsimina.github.io%2Fblob%2Fmain%2Finflation_decomposition.json', 'isCSV': False, 'isRichtext': False, 'toc': None, 'lineInfo': {'truncatedLoc': '57', 'truncatedSloc': '57'}, 'mode': 'file'}, 'image': False, 'isCodeownersFile': None, 'isPlain': False, 'isValidLegacyIssueTemplate': False, 'issueTemplate': None, 'discussionTemplate': None, 'language': 'JSON', 'languageID': 174, 'large': False, 'planSupportInfo': {'repoIsFork': None, 'repoOwnedByCurrentUser': None, 'requestFullPath': '/mpsimina/mpsimina.github.io/blob/main/inflation_decomposition.json', 'showFreeOrgGatedFeatureMessage': None, 'showPlanSupportBanner': None, 'upgradeDataAttributes': None, 'upgradePath': None}, 'publishBannersInfo': {'dismissActionNoticePath': '/settings/dismiss-notice/publish_action_from_dockerfile', 'releasePath': '/mpsimina/mpsimina.github.io/releases/new?marketplace=true', 'showPublishActionBanner': False}, 'rawBlobUrl': 'https://github.com/mpsimina/mpsimina.github.io/raw/main/inflation_decomposition.json', 'renderImageOrRaw': False, 'richText': None, 'renderedFileInfo': None, 'shortPath': None, 'symbolsEnabled': True, 'tabSize': 8, 'topBannersInfo': {'overridingGlobalFundingFile': False, 'globalPreferredFundingPath': None, 'showInvalidCitationWarning': False, 'citationHelpUrl': 'https://docs.github.com/github/creating-cloning-and-archiving-repositories/creating-a-repository-on-github/about-citation-files', 'actionsOnboardingTip': None}, 'truncated': False, 'viewable': True, 'workflowRedirectUrl': None, 'symbols': {'timed_out': False, 'not_analyzed': True, 'symbols': []}}, 'copilotInfo': None, 'copilotAccessAllowed': False, 'csrf_tokens': {'/mpsimina/mpsimina.github.io/branches': {'post': 'nzJC4gTcZI1nBL1zn7zyS-mAkmEM90FWDzRg8mxsnfdHUXED-E7OXgAemmI3Gip7ZaY6odMgVYmrCmd54FRD2g'}, '/repos/preferences': {'post': '9j5GMOazXxMLMtUubIhFfxVSPlYCgRhpw275v6JllJh6IjC_Hl_5yi0WKjoPqlxvXT20ZxTTAXK9FKRwChz3mg'}}}, 'title': 'mpsimina.github.io/inflation_decomposition.json at main · mpsimina/mpsimina.github.io'}\n",
            "\n",
            "\n"
          ]
        }
      ],
      "source": [
        "# 2.  ACCESSING AND EXAMINING MY CHART SPEC:\n",
        "\n",
        "## // Define my target URL (note that this is the RAW file)\n",
        "url = \"https://raw.githubusercontent.com/RDeconomist/RDeconomist.github.io/main/charts/library/chartLine0.json\"\n",
        "url2 = \"https://github.com/mpsimina/mpsimina.github.io/blob/main/inflation_decomposition.json\"\n",
        "\n",
        "## // Get this\n",
        "chartSpec = requests.get(url).json()\n",
        "chartSpec2 = requests.get(url2).json()\n",
        "\n",
        "## // Now let's print it out, two different ways:\n",
        "\n",
        "## // First, just the data (no formatting)\n",
        "print(chartSpec)\n",
        "print('\\n')\n",
        "print(chartSpec2)\n",
        "print('\\n')\n",
        "\n",
        "## // Convert to json [using json.dumps()] then print with formatting\n",
        "#print(json.dumps(chartSpec, indent=4))"
      ]
    },
    {
      "cell_type": "markdown",
      "metadata": {
        "id": "bMblrItpwOSk"
      },
      "source": [
        "<br>\n",
        "<br>\n",
        "\n",
        "### Editing the specification of a chart. Python Dictionaries\n",
        "\n",
        "Next, note that I can edit parts of a chart spec in Python. Following the steps that we have taken about, the variable we have is a Python \"dictionary\". Once dictionaries have been created we can edit them as we please. You can read about Python dictionaries [here](https://www.w3schools.com/python/python_dictionaries.asp)."
      ]
    },
    {
      "cell_type": "code",
      "execution_count": 13,
      "metadata": {
        "id": "3dfadyUMvN9r",
        "outputId": "7e7a5c42-ace4-437b-b8be-0422ed69ecd1",
        "colab": {
          "base_uri": "https://localhost:8080/"
        }
      },
      "outputs": [
        {
          "output_type": "stream",
          "name": "stdout",
          "text": [
            "1000\n",
            "I like Data\n",
            "{\n",
            "  \"$schema\": \"https://vega.github.io/schema/vega-lite/v5.json\",\n",
            "  \"data\": {\n",
            "    \"url\": \"https://raw.githubusercontent.com/RDeconomist/RDeconomist.github.io/main/charts/library/ukProdOutPerWork.csv\"\n",
            "  },\n",
            "  \"title\": {\n",
            "    \"text\": \"I like Data\"\n",
            "  },\n",
            "  \"width\": 1000,\n",
            "  \"height\": 300,\n",
            "  \"mark\": {\n",
            "    \"type\": \"line\",\n",
            "    \"color\": \"red\"\n",
            "  },\n",
            "  \"encoding\": {\n",
            "    \"x\": {\n",
            "      \"field\": \"Year\",\n",
            "      \"type\": \"temporal\"\n",
            "    },\n",
            "    \"y\": {\n",
            "      \"field\": \"outputPerWorker\",\n",
            "      \"type\": \"quantitative\"\n",
            "    }\n",
            "  }\n",
            "}\n"
          ]
        }
      ],
      "source": [
        "## Print the width of the chart:\n",
        "print(chartSpec[\"width\"])\n",
        "\n",
        "## Change the width of the chart to 500\n",
        "chartSpec[\"width\"] = 1000\n",
        "chartSpec2[\"width\"] = 1000\n",
        "\n",
        "## Print the title of the chart:\n",
        "print(chartSpec[\"title\"][\"text\"])\n",
        "# print(chartSpec2[\"title\"][\"text\"])\n",
        "\n",
        "## Change the title of the chart:\n",
        "chartSpec[\"title\"][\"text\"] = \"I like Data\"\n",
        "\n",
        "## Print out our new Spec:\n",
        "print(json.dumps(chartSpec, indent=2))"
      ]
    },
    {
      "cell_type": "markdown",
      "metadata": {
        "id": "_Xg3y_PszFZL"
      },
      "source": [
        "<br>\n",
        "<br>\n",
        "\n",
        "### Loop + Dictionary\n",
        "\n",
        "Now we can combine a loop and a dictionary to make multiple different, but similar, dictionaries.\n",
        "\n",
        "*(To see why this is useful, recall from before that ALL we need to make a different chart is a different data source, and that this is just a value in a JSON object.)*\n"
      ]
    },
    {
      "cell_type": "code",
      "execution_count": 14,
      "metadata": {
        "id": "CHEyHq8vVbBt",
        "outputId": "c2d9dc97-9471-4356-ba0f-dd84aaa05353",
        "colab": {
          "base_uri": "https://localhost:8080/"
        }
      },
      "outputs": [
        {
          "output_type": "stream",
          "name": "stdout",
          "text": [
            "['Westminster', 'Camden', 'Islington']\n",
            "\n",
            "\n",
            "{'borough': 'X', 'city': 'London', 'temperature': 5, 'country': 'England'}\n",
            "\n",
            "\n",
            "Westminster\n",
            "Camden\n",
            "Islington\n",
            "Westminster\n",
            "11\n",
            "Camden\n",
            "6\n",
            "Islington\n",
            "9\n",
            "{'borough': 'Westminster', 'city': 'London', 'temperature': 5, 'country': 'England'}\n",
            "{'borough': 'Camden', 'city': 'London', 'temperature': 5, 'country': 'England'}\n",
            "{'borough': 'Islington', 'city': 'London', 'temperature': 5, 'country': 'England'}\n"
          ]
        }
      ],
      "source": [
        "## create a list of boroughs\n",
        "boroughs = [\"Westminster\", \"Camden\", \"Islington\"]\n",
        "print(boroughs)\n",
        "print('\\n')\n",
        "\n",
        "## Create an example dictionary, using the dict() constructor:\n",
        "x = dict(borough=\"X\", city = \"London\", temperature = 5, country = \"England\")\n",
        "print(x)\n",
        "print('\\n')\n",
        "\n",
        "\n",
        "## Now loop over the counties, printing each one.\n",
        "for i in boroughs:\n",
        "  print(i)\n",
        "\n",
        "\n",
        "## Now loop over the counties, printing each one, and calculating their length, and printing this out\n",
        "for i in boroughs:\n",
        "  print(i)\n",
        "  y = len(i)\n",
        "  print(y)\n",
        "\n",
        "## Now loop over the counties, printing each one.\n",
        "for i in boroughs:\n",
        "  x['borough'] = i\n",
        "  print(x)\n",
        "\n"
      ]
    },
    {
      "cell_type": "markdown",
      "metadata": {
        "id": "J4h7JCJm4Gmr"
      },
      "source": [
        "<br>\n",
        "<br>\n",
        "\n",
        "### API + Loop + Dictionary\n",
        "\n",
        "Combining three of the tools we have learned. In the code below there are two main steps.\n",
        "1. Prepare for the loop, by creatings a kind of \"shell\" dictionary (a simi complete chart spec) that needs some more information (the data source).\n",
        "2. Loop over the list of countries, creating an API link, inserting this into a chart spec, and visualise this."
      ]
    },
    {
      "cell_type": "code",
      "execution_count": 15,
      "metadata": {
        "id": "cYmgZyTN4AO2",
        "outputId": "766dbac9-e673-4736-91a7-a7d08b39c7e7",
        "colab": {
          "base_uri": "https://localhost:8080/"
        }
      },
      "outputs": [
        {
          "output_type": "stream",
          "name": "stdout",
          "text": [
            "{\n",
            "  \"$schema\": \"https://vega.github.io/schema/vega-lite/v5.json\",\n",
            "  \"data\": {\n",
            "    \"url\": \"XYZ\"\n",
            "  },\n",
            "  \"title\": {\n",
            "    \"text\": \"Unemployment\"\n",
            "  },\n",
            "  \"width\": 300,\n",
            "  \"height\": 300,\n",
            "  \"mark\": {\n",
            "    \"type\": \"line\",\n",
            "    \"color\": \"red\"\n",
            "  },\n",
            "  \"encoding\": {\n",
            "    \"x\": {\n",
            "      \"field\": \"date\",\n",
            "      \"type\": \"temporal\"\n",
            "    },\n",
            "    \"y\": {\n",
            "      \"field\": \"value\",\n",
            "      \"type\": \"quantitative\"\n",
            "    }\n",
            "  }\n",
            "}\n"
          ]
        }
      ],
      "source": [
        "### PREPARING OUR BASE SPEC\n",
        "\n",
        "# // Get out base spec (as above)\n",
        "url = \"https://raw.githubusercontent.com/RDeconomist/RDeconomist.github.io/main/charts/library/chartLine0.json\"\n",
        "base_spec = requests.get(url).json()\n",
        "\n",
        "# // Now since all of our work is going to be on unemployment, we need to change the base spec:\n",
        "base_spec['title']['text'] = \"Unemployment\"\n",
        "base_spec['encoding']['x']['field'] = 'date'\n",
        "base_spec['encoding']['y']['field'] = 'value'\n",
        "base_spec['data']['url'] = 'XYZ'\n",
        "\n",
        "# // Print out our new Spec:\n",
        "print(json.dumps(base_spec, indent=2))\n"
      ]
    },
    {
      "cell_type": "markdown",
      "metadata": {
        "id": "wiEgU1Y5AT2r"
      },
      "source": [
        "With that preparation in place we can run our loop:"
      ]
    },
    {
      "cell_type": "code",
      "execution_count": 16,
      "metadata": {
        "id": "FwRBmOcbAS2r",
        "outputId": "bad45764-bbd7-4f4a-c395-3d9a2620a96a",
        "colab": {
          "base_uri": "https://localhost:8080/",
          "height": 1000
        }
      },
      "outputs": [
        {
          "output_type": "display_data",
          "data": {
            "text/html": [
              "\n",
              "<div id=\"altair-viz-0b00b4d721b84e94b12657a37bb5786b\"></div>\n",
              "<script type=\"text/javascript\">\n",
              "  var VEGA_DEBUG = (typeof VEGA_DEBUG == \"undefined\") ? {} : VEGA_DEBUG;\n",
              "  (function(spec, embedOpt){\n",
              "    let outputDiv = document.currentScript.previousElementSibling;\n",
              "    if (outputDiv.id !== \"altair-viz-0b00b4d721b84e94b12657a37bb5786b\") {\n",
              "      outputDiv = document.getElementById(\"altair-viz-0b00b4d721b84e94b12657a37bb5786b\");\n",
              "    }\n",
              "    const paths = {\n",
              "      \"vega\": \"https://cdn.jsdelivr.net/npm//vega@5?noext\",\n",
              "      \"vega-lib\": \"https://cdn.jsdelivr.net/npm//vega-lib?noext\",\n",
              "      \"vega-lite\": \"https://cdn.jsdelivr.net/npm//vega-lite@4.17.0?noext\",\n",
              "      \"vega-embed\": \"https://cdn.jsdelivr.net/npm//vega-embed@6?noext\",\n",
              "    };\n",
              "\n",
              "    function maybeLoadScript(lib, version) {\n",
              "      var key = `${lib.replace(\"-\", \"\")}_version`;\n",
              "      return (VEGA_DEBUG[key] == version) ?\n",
              "        Promise.resolve(paths[lib]) :\n",
              "        new Promise(function(resolve, reject) {\n",
              "          var s = document.createElement('script');\n",
              "          document.getElementsByTagName(\"head\")[0].appendChild(s);\n",
              "          s.async = true;\n",
              "          s.onload = () => {\n",
              "            VEGA_DEBUG[key] = version;\n",
              "            return resolve(paths[lib]);\n",
              "          };\n",
              "          s.onerror = () => reject(`Error loading script: ${paths[lib]}`);\n",
              "          s.src = paths[lib];\n",
              "        });\n",
              "    }\n",
              "\n",
              "    function showError(err) {\n",
              "      outputDiv.innerHTML = `<div class=\"error\" style=\"color:red;\">${err}</div>`;\n",
              "      throw err;\n",
              "    }\n",
              "\n",
              "    function displayChart(vegaEmbed) {\n",
              "      vegaEmbed(outputDiv, spec, embedOpt)\n",
              "        .catch(err => showError(`Javascript Error: ${err.message}<br>This usually means there's a typo in your chart specification. See the javascript console for the full traceback.`));\n",
              "    }\n",
              "\n",
              "    if(typeof define === \"function\" && define.amd) {\n",
              "      requirejs.config({paths});\n",
              "      require([\"vega-embed\"], displayChart, err => showError(`Error loading script: ${err.message}`));\n",
              "    } else {\n",
              "      maybeLoadScript(\"vega\", \"5\")\n",
              "        .then(() => maybeLoadScript(\"vega-lite\", \"4.17.0\"))\n",
              "        .then(() => maybeLoadScript(\"vega-embed\", \"6\"))\n",
              "        .catch(showError)\n",
              "        .then(() => displayChart(vegaEmbed));\n",
              "    }\n",
              "  })({\"config\": {\"view\": {\"continuousWidth\": 400, \"continuousHeight\": 300}}, \"data\": {\"url\": \"https://api.economicsobservatory.com/gbr/unem?vega\"}, \"mark\": {\"type\": \"line\", \"color\": \"red\"}, \"encoding\": {\"x\": {\"field\": \"date\", \"type\": \"temporal\"}, \"y\": {\"field\": \"value\", \"type\": \"quantitative\"}}, \"height\": 300, \"title\": {\"text\": \"Unemployment\", \"subtitle\": \"gbr\"}, \"width\": 300, \"$schema\": \"https://vega.github.io/schema/vega-lite/v5.json\"}, {\"mode\": \"vega-lite\"});\n",
              "</script>"
            ],
            "text/plain": [
              "alt.Chart(...)"
            ]
          },
          "metadata": {}
        },
        {
          "output_type": "display_data",
          "data": {
            "text/html": [
              "\n",
              "<div id=\"altair-viz-ab40a66d5ac54ddab79223c66d9f711f\"></div>\n",
              "<script type=\"text/javascript\">\n",
              "  var VEGA_DEBUG = (typeof VEGA_DEBUG == \"undefined\") ? {} : VEGA_DEBUG;\n",
              "  (function(spec, embedOpt){\n",
              "    let outputDiv = document.currentScript.previousElementSibling;\n",
              "    if (outputDiv.id !== \"altair-viz-ab40a66d5ac54ddab79223c66d9f711f\") {\n",
              "      outputDiv = document.getElementById(\"altair-viz-ab40a66d5ac54ddab79223c66d9f711f\");\n",
              "    }\n",
              "    const paths = {\n",
              "      \"vega\": \"https://cdn.jsdelivr.net/npm//vega@5?noext\",\n",
              "      \"vega-lib\": \"https://cdn.jsdelivr.net/npm//vega-lib?noext\",\n",
              "      \"vega-lite\": \"https://cdn.jsdelivr.net/npm//vega-lite@4.17.0?noext\",\n",
              "      \"vega-embed\": \"https://cdn.jsdelivr.net/npm//vega-embed@6?noext\",\n",
              "    };\n",
              "\n",
              "    function maybeLoadScript(lib, version) {\n",
              "      var key = `${lib.replace(\"-\", \"\")}_version`;\n",
              "      return (VEGA_DEBUG[key] == version) ?\n",
              "        Promise.resolve(paths[lib]) :\n",
              "        new Promise(function(resolve, reject) {\n",
              "          var s = document.createElement('script');\n",
              "          document.getElementsByTagName(\"head\")[0].appendChild(s);\n",
              "          s.async = true;\n",
              "          s.onload = () => {\n",
              "            VEGA_DEBUG[key] = version;\n",
              "            return resolve(paths[lib]);\n",
              "          };\n",
              "          s.onerror = () => reject(`Error loading script: ${paths[lib]}`);\n",
              "          s.src = paths[lib];\n",
              "        });\n",
              "    }\n",
              "\n",
              "    function showError(err) {\n",
              "      outputDiv.innerHTML = `<div class=\"error\" style=\"color:red;\">${err}</div>`;\n",
              "      throw err;\n",
              "    }\n",
              "\n",
              "    function displayChart(vegaEmbed) {\n",
              "      vegaEmbed(outputDiv, spec, embedOpt)\n",
              "        .catch(err => showError(`Javascript Error: ${err.message}<br>This usually means there's a typo in your chart specification. See the javascript console for the full traceback.`));\n",
              "    }\n",
              "\n",
              "    if(typeof define === \"function\" && define.amd) {\n",
              "      requirejs.config({paths});\n",
              "      require([\"vega-embed\"], displayChart, err => showError(`Error loading script: ${err.message}`));\n",
              "    } else {\n",
              "      maybeLoadScript(\"vega\", \"5\")\n",
              "        .then(() => maybeLoadScript(\"vega-lite\", \"4.17.0\"))\n",
              "        .then(() => maybeLoadScript(\"vega-embed\", \"6\"))\n",
              "        .catch(showError)\n",
              "        .then(() => displayChart(vegaEmbed));\n",
              "    }\n",
              "  })({\"config\": {\"view\": {\"continuousWidth\": 400, \"continuousHeight\": 300}}, \"data\": {\"url\": \"https://api.economicsobservatory.com/usa/unem?vega\"}, \"mark\": {\"type\": \"line\", \"color\": \"red\"}, \"encoding\": {\"x\": {\"field\": \"date\", \"type\": \"temporal\"}, \"y\": {\"field\": \"value\", \"type\": \"quantitative\"}}, \"height\": 300, \"title\": {\"text\": \"Unemployment\", \"subtitle\": \"usa\"}, \"width\": 300, \"$schema\": \"https://vega.github.io/schema/vega-lite/v5.json\"}, {\"mode\": \"vega-lite\"});\n",
              "</script>"
            ],
            "text/plain": [
              "alt.Chart(...)"
            ]
          },
          "metadata": {}
        },
        {
          "output_type": "display_data",
          "data": {
            "text/html": [
              "\n",
              "<div id=\"altair-viz-32844895033045fb8bd3bc6f421785d8\"></div>\n",
              "<script type=\"text/javascript\">\n",
              "  var VEGA_DEBUG = (typeof VEGA_DEBUG == \"undefined\") ? {} : VEGA_DEBUG;\n",
              "  (function(spec, embedOpt){\n",
              "    let outputDiv = document.currentScript.previousElementSibling;\n",
              "    if (outputDiv.id !== \"altair-viz-32844895033045fb8bd3bc6f421785d8\") {\n",
              "      outputDiv = document.getElementById(\"altair-viz-32844895033045fb8bd3bc6f421785d8\");\n",
              "    }\n",
              "    const paths = {\n",
              "      \"vega\": \"https://cdn.jsdelivr.net/npm//vega@5?noext\",\n",
              "      \"vega-lib\": \"https://cdn.jsdelivr.net/npm//vega-lib?noext\",\n",
              "      \"vega-lite\": \"https://cdn.jsdelivr.net/npm//vega-lite@4.17.0?noext\",\n",
              "      \"vega-embed\": \"https://cdn.jsdelivr.net/npm//vega-embed@6?noext\",\n",
              "    };\n",
              "\n",
              "    function maybeLoadScript(lib, version) {\n",
              "      var key = `${lib.replace(\"-\", \"\")}_version`;\n",
              "      return (VEGA_DEBUG[key] == version) ?\n",
              "        Promise.resolve(paths[lib]) :\n",
              "        new Promise(function(resolve, reject) {\n",
              "          var s = document.createElement('script');\n",
              "          document.getElementsByTagName(\"head\")[0].appendChild(s);\n",
              "          s.async = true;\n",
              "          s.onload = () => {\n",
              "            VEGA_DEBUG[key] = version;\n",
              "            return resolve(paths[lib]);\n",
              "          };\n",
              "          s.onerror = () => reject(`Error loading script: ${paths[lib]}`);\n",
              "          s.src = paths[lib];\n",
              "        });\n",
              "    }\n",
              "\n",
              "    function showError(err) {\n",
              "      outputDiv.innerHTML = `<div class=\"error\" style=\"color:red;\">${err}</div>`;\n",
              "      throw err;\n",
              "    }\n",
              "\n",
              "    function displayChart(vegaEmbed) {\n",
              "      vegaEmbed(outputDiv, spec, embedOpt)\n",
              "        .catch(err => showError(`Javascript Error: ${err.message}<br>This usually means there's a typo in your chart specification. See the javascript console for the full traceback.`));\n",
              "    }\n",
              "\n",
              "    if(typeof define === \"function\" && define.amd) {\n",
              "      requirejs.config({paths});\n",
              "      require([\"vega-embed\"], displayChart, err => showError(`Error loading script: ${err.message}`));\n",
              "    } else {\n",
              "      maybeLoadScript(\"vega\", \"5\")\n",
              "        .then(() => maybeLoadScript(\"vega-lite\", \"4.17.0\"))\n",
              "        .then(() => maybeLoadScript(\"vega-embed\", \"6\"))\n",
              "        .catch(showError)\n",
              "        .then(() => displayChart(vegaEmbed));\n",
              "    }\n",
              "  })({\"config\": {\"view\": {\"continuousWidth\": 400, \"continuousHeight\": 300}}, \"data\": {\"url\": \"https://api.economicsobservatory.com/can/unem?vega\"}, \"mark\": {\"type\": \"line\", \"color\": \"red\"}, \"encoding\": {\"x\": {\"field\": \"date\", \"type\": \"temporal\"}, \"y\": {\"field\": \"value\", \"type\": \"quantitative\"}}, \"height\": 300, \"title\": {\"text\": \"Unemployment\", \"subtitle\": \"can\"}, \"width\": 300, \"$schema\": \"https://vega.github.io/schema/vega-lite/v5.json\"}, {\"mode\": \"vega-lite\"});\n",
              "</script>"
            ],
            "text/plain": [
              "alt.Chart(...)"
            ]
          },
          "metadata": {}
        },
        {
          "output_type": "display_data",
          "data": {
            "text/html": [
              "\n",
              "<div id=\"altair-viz-998a05132f664d68ac66e1d86f6c5cda\"></div>\n",
              "<script type=\"text/javascript\">\n",
              "  var VEGA_DEBUG = (typeof VEGA_DEBUG == \"undefined\") ? {} : VEGA_DEBUG;\n",
              "  (function(spec, embedOpt){\n",
              "    let outputDiv = document.currentScript.previousElementSibling;\n",
              "    if (outputDiv.id !== \"altair-viz-998a05132f664d68ac66e1d86f6c5cda\") {\n",
              "      outputDiv = document.getElementById(\"altair-viz-998a05132f664d68ac66e1d86f6c5cda\");\n",
              "    }\n",
              "    const paths = {\n",
              "      \"vega\": \"https://cdn.jsdelivr.net/npm//vega@5?noext\",\n",
              "      \"vega-lib\": \"https://cdn.jsdelivr.net/npm//vega-lib?noext\",\n",
              "      \"vega-lite\": \"https://cdn.jsdelivr.net/npm//vega-lite@4.17.0?noext\",\n",
              "      \"vega-embed\": \"https://cdn.jsdelivr.net/npm//vega-embed@6?noext\",\n",
              "    };\n",
              "\n",
              "    function maybeLoadScript(lib, version) {\n",
              "      var key = `${lib.replace(\"-\", \"\")}_version`;\n",
              "      return (VEGA_DEBUG[key] == version) ?\n",
              "        Promise.resolve(paths[lib]) :\n",
              "        new Promise(function(resolve, reject) {\n",
              "          var s = document.createElement('script');\n",
              "          document.getElementsByTagName(\"head\")[0].appendChild(s);\n",
              "          s.async = true;\n",
              "          s.onload = () => {\n",
              "            VEGA_DEBUG[key] = version;\n",
              "            return resolve(paths[lib]);\n",
              "          };\n",
              "          s.onerror = () => reject(`Error loading script: ${paths[lib]}`);\n",
              "          s.src = paths[lib];\n",
              "        });\n",
              "    }\n",
              "\n",
              "    function showError(err) {\n",
              "      outputDiv.innerHTML = `<div class=\"error\" style=\"color:red;\">${err}</div>`;\n",
              "      throw err;\n",
              "    }\n",
              "\n",
              "    function displayChart(vegaEmbed) {\n",
              "      vegaEmbed(outputDiv, spec, embedOpt)\n",
              "        .catch(err => showError(`Javascript Error: ${err.message}<br>This usually means there's a typo in your chart specification. See the javascript console for the full traceback.`));\n",
              "    }\n",
              "\n",
              "    if(typeof define === \"function\" && define.amd) {\n",
              "      requirejs.config({paths});\n",
              "      require([\"vega-embed\"], displayChart, err => showError(`Error loading script: ${err.message}`));\n",
              "    } else {\n",
              "      maybeLoadScript(\"vega\", \"5\")\n",
              "        .then(() => maybeLoadScript(\"vega-lite\", \"4.17.0\"))\n",
              "        .then(() => maybeLoadScript(\"vega-embed\", \"6\"))\n",
              "        .catch(showError)\n",
              "        .then(() => displayChart(vegaEmbed));\n",
              "    }\n",
              "  })({\"config\": {\"view\": {\"continuousWidth\": 400, \"continuousHeight\": 300}}, \"data\": {\"url\": \"https://api.economicsobservatory.com/egy/unem?vega\"}, \"mark\": {\"type\": \"line\", \"color\": \"red\"}, \"encoding\": {\"x\": {\"field\": \"date\", \"type\": \"temporal\"}, \"y\": {\"field\": \"value\", \"type\": \"quantitative\"}}, \"height\": 300, \"title\": {\"text\": \"Unemployment\", \"subtitle\": \"egy\"}, \"width\": 300, \"$schema\": \"https://vega.github.io/schema/vega-lite/v5.json\"}, {\"mode\": \"vega-lite\"});\n",
              "</script>"
            ],
            "text/plain": [
              "alt.Chart(...)"
            ]
          },
          "metadata": {}
        }
      ],
      "source": [
        "### RUNNING OUR LOOP\n",
        "\n",
        "# // Define our base url with the {} placeholder for the country code.\n",
        "base_api = 'https://api.economicsobservatory.com/{}/unem?vega'\n",
        "\n",
        "ons_api = 'https://api.ons.gov.uk/timeseries/L550/dataset/MM23/data'\n",
        "\n",
        "ons_api = 'https://api.ons.gov.uk/timeseries/L550/dataset/MM23/data'\n",
        "\n",
        "\n",
        "# // Create a list of countries we want to get data for:\n",
        "countries = ['gbr', 'usa', 'can', 'egy']\n",
        "\n",
        "for i in countries:\n",
        "  ## Build the api that we want to use:\n",
        "  apiToUse = base_api.format(i)\n",
        "  # print(apiToUse)\n",
        "\n",
        "  ## Now build the chart spec:\n",
        "  base_spec['data']['url'] = apiToUse\n",
        "  base_spec['title']['subtitle'] = i\n",
        "\n",
        "  # /// Turn the spec into JSON\n",
        "  specJSON = json.dumps(base_spec)\n",
        "\n",
        "  # /// Turn the json into an Altair chart and display it:\n",
        "  new_chart = alt.Chart.from_json(specJSON)\n",
        "  new_chart.display()\n"
      ]
    },
    {
      "cell_type": "code",
      "execution_count": null,
      "metadata": {
        "id": "10avxOPPVbBt"
      },
      "outputs": [],
      "source": []
    }
  ],
  "metadata": {
    "colab": {
      "provenance": [],
      "include_colab_link": true
    },
    "kernelspec": {
      "display_name": "Python 3",
      "name": "python3"
    },
    "language_info": {
      "codemirror_mode": {
        "name": "ipython",
        "version": 3
      },
      "file_extension": ".py",
      "mimetype": "text/x-python",
      "name": "python",
      "nbconvert_exporter": "python",
      "pygments_lexer": "ipython3",
      "version": "3.11.4"
    }
  },
  "nbformat": 4,
  "nbformat_minor": 0
}